{
  "nbformat": 4,
  "nbformat_minor": 0,
  "metadata": {
    "colab": {
      "name": "Efficient Frontier 2.ipynb",
      "provenance": [],
      "authorship_tag": "ABX9TyPku6NPRtpxi+yEwbkfFbu3",
      "include_colab_link": true
    },
    "kernelspec": {
      "name": "python3",
      "display_name": "Python 3"
    }
  },
  "cells": [
    {
      "cell_type": "markdown",
      "metadata": {
        "id": "view-in-github",
        "colab_type": "text"
      },
      "source": [
        "<a href=\"https://colab.research.google.com/github/aayush1036/algorithm_trading_course/blob/master/Efficient_frontier/Efficient_Frontier_2.ipynb\" target=\"_parent\"><img src=\"https://colab.research.google.com/assets/colab-badge.svg\" alt=\"Open In Colab\"/></a>"
      ]
    },
    {
      "cell_type": "markdown",
      "metadata": {
        "id": "UMMxvChH4d54"
      },
      "source": [
        "# Efficient frontier part 2"
      ]
    },
    {
      "cell_type": "code",
      "metadata": {
        "id": "EHXXV76A4bUd"
      },
      "source": [
        "%load_ext autoreload \n",
        "%autoreload 2\n",
        "%matplotlib inline\n",
        "import numpy as np\n",
        "import pandas as pd\n",
        "import edhec_risk_kit as erk"
      ],
      "execution_count": 1,
      "outputs": []
    },
    {
      "cell_type": "code",
      "metadata": {
        "id": "eKoljZmE42g7"
      },
      "source": [
        "ind = erk.get_ind_returns()\n",
        "er = erk.annualize_rets(ind['1996':'2000'], 12)\n",
        "cov = ind['1996':'2000'].cov()"
      ],
      "execution_count": 3,
      "outputs": []
    },
    {
      "cell_type": "code",
      "metadata": {
        "id": "O28KVM0M5GBQ"
      },
      "source": [
        "def portfolio_return(weights, returns):\n",
        "    \"\"\"\n",
        "    Weights to returns\n",
        "    \"\"\"\n",
        "    return weights.T @ returns\n",
        "def portfolio_vol(weights, covmat):\n",
        "    \"\"\"\n",
        "    Weights to volatility\n",
        "    \"\"\"\n",
        "    return (weights.T @ covmat @ weights)**0.5"
      ],
      "execution_count": 4,
      "outputs": []
    },
    {
      "cell_type": "code",
      "metadata": {
        "id": "ccFVMOtz6a0V",
        "outputId": "c73d9733-55af-40fb-d5e5-05c67cea86ea",
        "colab": {
          "base_uri": "https://localhost:8080/",
          "height": 102
        }
      },
      "source": [
        "l = ['Food', 'Beer', 'Smoke', 'Coal']\n",
        "er[l]"
      ],
      "execution_count": 6,
      "outputs": [
        {
          "output_type": "execute_result",
          "data": {
            "text/plain": [
              "Food     0.116799\n",
              "Beer     0.141126\n",
              "Smoke    0.107830\n",
              "Coal     0.414689\n",
              "dtype: float64"
            ]
          },
          "metadata": {
            "tags": []
          },
          "execution_count": 6
        }
      ]
    },
    {
      "cell_type": "code",
      "metadata": {
        "id": "MvAXIp3y6h8Z",
        "outputId": "bff71024-aa75-4196-8a91-c6fe11e1ebae",
        "colab": {
          "base_uri": "https://localhost:8080/",
          "height": 173
        }
      },
      "source": [
        "cov.loc[l, l]"
      ],
      "execution_count": 7,
      "outputs": [
        {
          "output_type": "execute_result",
          "data": {
            "text/html": [
              "<div>\n",
              "<style scoped>\n",
              "    .dataframe tbody tr th:only-of-type {\n",
              "        vertical-align: middle;\n",
              "    }\n",
              "\n",
              "    .dataframe tbody tr th {\n",
              "        vertical-align: top;\n",
              "    }\n",
              "\n",
              "    .dataframe thead th {\n",
              "        text-align: right;\n",
              "    }\n",
              "</style>\n",
              "<table border=\"1\" class=\"dataframe\">\n",
              "  <thead>\n",
              "    <tr style=\"text-align: right;\">\n",
              "      <th></th>\n",
              "      <th>Food</th>\n",
              "      <th>Beer</th>\n",
              "      <th>Smoke</th>\n",
              "      <th>Coal</th>\n",
              "    </tr>\n",
              "  </thead>\n",
              "  <tbody>\n",
              "    <tr>\n",
              "      <th>Food</th>\n",
              "      <td>0.002609</td>\n",
              "      <td>0.002379</td>\n",
              "      <td>0.002061</td>\n",
              "      <td>0.000027</td>\n",
              "    </tr>\n",
              "    <tr>\n",
              "      <th>Beer</th>\n",
              "      <td>0.002379</td>\n",
              "      <td>0.005264</td>\n",
              "      <td>0.001359</td>\n",
              "      <td>0.001728</td>\n",
              "    </tr>\n",
              "    <tr>\n",
              "      <th>Smoke</th>\n",
              "      <td>0.002061</td>\n",
              "      <td>0.001359</td>\n",
              "      <td>0.008349</td>\n",
              "      <td>-0.000733</td>\n",
              "    </tr>\n",
              "    <tr>\n",
              "      <th>Coal</th>\n",
              "      <td>0.000027</td>\n",
              "      <td>0.001728</td>\n",
              "      <td>-0.000733</td>\n",
              "      <td>0.018641</td>\n",
              "    </tr>\n",
              "  </tbody>\n",
              "</table>\n",
              "</div>"
            ],
            "text/plain": [
              "           Food      Beer     Smoke      Coal\n",
              "Food   0.002609  0.002379  0.002061  0.000027\n",
              "Beer   0.002379  0.005264  0.001359  0.001728\n",
              "Smoke  0.002061  0.001359  0.008349 -0.000733\n",
              "Coal   0.000027  0.001728 -0.000733  0.018641"
            ]
          },
          "metadata": {
            "tags": []
          },
          "execution_count": 7
        }
      ]
    },
    {
      "cell_type": "code",
      "metadata": {
        "id": "Tcb5N6oW6t1p",
        "outputId": "04ba7dd4-5834-40b2-c448-0b2c45446903",
        "colab": {
          "base_uri": "https://localhost:8080/",
          "height": 34
        }
      },
      "source": [
        "weights = np.repeat(1/4,4)\n",
        "erk.portfolio_return(weights, er[l])"
      ],
      "execution_count": 12,
      "outputs": [
        {
          "output_type": "execute_result",
          "data": {
            "text/plain": [
              "0.19511097196038385"
            ]
          },
          "metadata": {
            "tags": []
          },
          "execution_count": 12
        }
      ]
    },
    {
      "cell_type": "code",
      "metadata": {
        "id": "KhEbTptL7KPQ",
        "outputId": "01bff4e4-5a64-4d79-b3ce-61969ea85133",
        "colab": {
          "base_uri": "https://localhost:8080/",
          "height": 34
        }
      },
      "source": [
        "erk.portfolio_vol(weights, cov.loc[l,l])"
      ],
      "execution_count": 13,
      "outputs": [
        {
          "output_type": "execute_result",
          "data": {
            "text/plain": [
              "0.055059195776437045"
            ]
          },
          "metadata": {
            "tags": []
          },
          "execution_count": 13
        }
      ]
    },
    {
      "cell_type": "markdown",
      "metadata": {
        "id": "H_3RFbs97j92"
      },
      "source": [
        "# two asset frontier"
      ]
    },
    {
      "cell_type": "code",
      "metadata": {
        "id": "B3sFK2vf7bqR"
      },
      "source": [
        "l = ['Games', 'Fin']"
      ],
      "execution_count": 14,
      "outputs": []
    },
    {
      "cell_type": "code",
      "metadata": {
        "id": "Ce38zGU27xtR"
      },
      "source": [
        "n_points = 20\n",
        "weights = [np.array([w,1-w]) for w in np.linspace(0,1,n_points)]"
      ],
      "execution_count": 15,
      "outputs": []
    },
    {
      "cell_type": "code",
      "metadata": {
        "id": "isEgN_fY8XBq",
        "outputId": "f967c072-8df8-4d71-a915-1d9591f7eb34",
        "colab": {
          "base_uri": "https://localhost:8080/",
          "height": 357
        }
      },
      "source": [
        "weights"
      ],
      "execution_count": 16,
      "outputs": [
        {
          "output_type": "execute_result",
          "data": {
            "text/plain": [
              "[array([0., 1.]),\n",
              " array([0.05263158, 0.94736842]),\n",
              " array([0.10526316, 0.89473684]),\n",
              " array([0.15789474, 0.84210526]),\n",
              " array([0.21052632, 0.78947368]),\n",
              " array([0.26315789, 0.73684211]),\n",
              " array([0.31578947, 0.68421053]),\n",
              " array([0.36842105, 0.63157895]),\n",
              " array([0.42105263, 0.57894737]),\n",
              " array([0.47368421, 0.52631579]),\n",
              " array([0.52631579, 0.47368421]),\n",
              " array([0.57894737, 0.42105263]),\n",
              " array([0.63157895, 0.36842105]),\n",
              " array([0.68421053, 0.31578947]),\n",
              " array([0.73684211, 0.26315789]),\n",
              " array([0.78947368, 0.21052632]),\n",
              " array([0.84210526, 0.15789474]),\n",
              " array([0.89473684, 0.10526316]),\n",
              " array([0.94736842, 0.05263158]),\n",
              " array([1., 0.])]"
            ]
          },
          "metadata": {
            "tags": []
          },
          "execution_count": 16
        }
      ]
    },
    {
      "cell_type": "code",
      "metadata": {
        "id": "ErKvumIv8YFa",
        "outputId": "27dba0a5-0d8c-4caa-aeca-72c89c720b87",
        "colab": {
          "base_uri": "https://localhost:8080/",
          "height": 34
        }
      },
      "source": [
        "len(weights)"
      ],
      "execution_count": 17,
      "outputs": [
        {
          "output_type": "execute_result",
          "data": {
            "text/plain": [
              "20"
            ]
          },
          "metadata": {
            "tags": []
          },
          "execution_count": 17
        }
      ]
    },
    {
      "cell_type": "code",
      "metadata": {
        "id": "CaLU3SFR8m9y",
        "outputId": "9c655c91-3cb4-4c0c-a648-7272f3da403c",
        "colab": {
          "base_uri": "https://localhost:8080/",
          "height": 34
        }
      },
      "source": [
        "l"
      ],
      "execution_count": 18,
      "outputs": [
        {
          "output_type": "execute_result",
          "data": {
            "text/plain": [
              "['Games', 'Fin']"
            ]
          },
          "metadata": {
            "tags": []
          },
          "execution_count": 18
        }
      ]
    },
    {
      "cell_type": "code",
      "metadata": {
        "id": "H2xiDbMi8sia",
        "outputId": "fc7aa0f9-2ecf-4152-83de-bb2c920f2ea3",
        "colab": {
          "base_uri": "https://localhost:8080/",
          "height": 296
        }
      },
      "source": [
        "rets = [erk.portfolio_return(w, er[l]) for w in weights]\n",
        "vols = [erk.portfolio_vol(w, cov.loc[l,l]) for w in weights]\n",
        "ef = pd.DataFrame({'Returns':rets, 'Volatility':vols})\n",
        "ef.plot.scatter(x='Volatility', y='Returns')"
      ],
      "execution_count": 22,
      "outputs": [
        {
          "output_type": "execute_result",
          "data": {
            "text/plain": [
              "<matplotlib.axes._subplots.AxesSubplot at 0x7f1e6b339da0>"
            ]
          },
          "metadata": {
            "tags": []
          },
          "execution_count": 22
        },
        {
          "output_type": "display_data",
          "data": {
            "image/png": "[encoded data removed]",
            "text/plain": [
              "<Figure size 432x288 with 1 Axes>"
            ]
          },
          "metadata": {
            "tags": [],
            "needs_background": "light"
          }
        }
      ]
    },
    {
      "cell_type": "code",
      "metadata": {
        "id": "LSHSiH3N85u7",
        "outputId": "f4934366-93d7-4363-fe5a-b623d28481a0",
        "colab": {
          "base_uri": "https://localhost:8080/",
          "height": 296
        }
      },
      "source": [
        "l = ['Fin', 'Beer']\n",
        "erk.plot_ef2(25, er[l], cov.loc[l,l])"
      ],
      "execution_count": 25,
      "outputs": [
        {
          "output_type": "execute_result",
          "data": {
            "text/plain": [
              "<matplotlib.axes._subplots.AxesSubplot at 0x7f1e699e5400>"
            ]
          },
          "metadata": {
            "tags": []
          },
          "execution_count": 25
        },
        {
          "output_type": "display_data",
          "data": {
            "image/png": "[encoded data removed]",
            "text/plain": [
              "<Figure size 432x288 with 1 Axes>"
            ]
          },
          "metadata": {
            "tags": [],
            "needs_background": "light"
          }
        }
      ]
    },
    {
      "cell_type": "code",
      "metadata": {
        "id": "QJYKLb0iB3gv",
        "outputId": "740fc68a-c997-499c-d97d-5e5872944883",
        "colab": {
          "base_uri": "https://localhost:8080/",
          "height": 296
        }
      },
      "source": [
        "l = ['Fin', 'Beer']\n",
        "erk.plot_ef2(25, er[l], cov.loc[l,l], style = '.')"
      ],
      "execution_count": 27,
      "outputs": [
        {
          "output_type": "execute_result",
          "data": {
            "text/plain": [
              "<matplotlib.axes._subplots.AxesSubplot at 0x7f1e6b2e6898>"
            ]
          },
          "metadata": {
            "tags": []
          },
          "execution_count": 27
        },
        {
          "output_type": "display_data",
          "data": {
            "image/png": "[encoded data removed]",
            "text/plain": [
              "<Figure size 432x288 with 1 Axes>"
            ]
          },
          "metadata": {
            "tags": [],
            "needs_background": "light"
          }
        }
      ]
    },
    {
      "cell_type": "code",
      "metadata": {
        "id": "tP2gNHtVCm4w"
      },
      "source": [
        ""
      ],
      "execution_count": null,
      "outputs": []
    }
  ]
}