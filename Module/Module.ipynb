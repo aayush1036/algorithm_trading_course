{
  "nbformat": 4,
  "nbformat_minor": 0,
  "metadata": {
    "colab": {
      "name": "Untitled0.ipynb",
      "provenance": [],
      "toc_visible": true,
      "authorship_tag": "ABX9TyOLSt8qSUKZOuKLUfJBa7I6",
      "include_colab_link": true
    },
    "kernelspec": {
      "name": "python3",
      "display_name": "Python 3"
    }
  },
  "cells": [
    {
      "cell_type": "markdown",
      "metadata": {
        "id": "view-in-github",
        "colab_type": "text"
      },
      "source": [
        "<a href=\"https://colab.research.google.com/github/aayush1036/algorithm_trading_course/blob/master/Module/Module.ipynb\" target=\"_parent\"><img src=\"https://colab.research.google.com/assets/colab-badge.svg\" alt=\"Open In Colab\"/></a>"
      ]
    },
    {
      "cell_type": "markdown",
      "metadata": {
        "id": "raLmKUxGEPit"
      },
      "source": [
        "# Creating modules"
      ]
    },
    {
      "cell_type": "code",
      "metadata": {
        "id": "1HoEX3ZTD6eA"
      },
      "source": [
        "import hello as h"
      ],
      "execution_count": 1,
      "outputs": []
    },
    {
      "cell_type": "code",
      "metadata": {
        "id": "MyRL4OcmEtK1",
        "outputId": "06e96e6c-56ac-4f7c-af13-93d337417f83",
        "colab": {
          "base_uri": "https://localhost:8080/",
          "height": 35
        }
      },
      "source": [
        "h.message"
      ],
      "execution_count": 2,
      "outputs": [
        {
          "output_type": "execute_result",
          "data": {
            "application/vnd.google.colaboratory.intrinsic+json": {
              "type": "string"
            },
            "text/plain": [
              "'Hello Aayushmaan'"
            ]
          },
          "metadata": {
            "tags": []
          },
          "execution_count": 2
        }
      ]
    },
    {
      "cell_type": "markdown",
      "metadata": {
        "id": "lJyTowaIE6dt"
      },
      "source": [
        "In the above statement, we passed the hello.py file to python with an alias of h and then we accessed the message variable from the file as \n",
        "\n",
        "```\n",
        "h.message\n",
        "``` \n",
        "This line of code accesses the variable named message in the hello.py file using the dot operator and prints the value of the variable (message) in the output"
      ]
    },
    {
      "cell_type": "code",
      "metadata": {
        "id": "5bSeHa2sExNk"
      },
      "source": [
        "%load_ext autoreload"
      ],
      "execution_count": 4,
      "outputs": []
    },
    {
      "cell_type": "code",
      "metadata": {
        "id": "sDhQrYYbGMru"
      },
      "source": [
        "%autoreload 2"
      ],
      "execution_count": 5,
      "outputs": []
    },
    {
      "cell_type": "markdown",
      "metadata": {
        "id": "vVjpFnSrGbic"
      },
      "source": [
        "Since python does not incorporate the changes made in the import file after importing, we are using python magic command \n",
        "```\n",
        "%load_ext autoreload\n",
        "```\n",
        "which reloads the import after the file has changed and then we use \n",
        "```\n",
        "%autoreload 2\n",
        "```\n",
        "to use mode 2 of autoreload extension which reloads any file which has previously been imported just after it has been edited "
      ]
    },
    {
      "cell_type": "code",
      "metadata": {
        "id": "6JlejyF-GYiS",
        "outputId": "e4ea0cbf-5edb-4c89-f8f9-ee09740b58b4",
        "colab": {
          "base_uri": "https://localhost:8080/",
          "height": 35
        }
      },
      "source": [
        "h.message"
      ],
      "execution_count": 6,
      "outputs": [
        {
          "output_type": "execute_result",
          "data": {
            "application/vnd.google.colaboratory.intrinsic+json": {
              "type": "string"
            },
            "text/plain": [
              "'Hello Aayushmaan and xyz'"
            ]
          },
          "metadata": {
            "tags": []
          },
          "execution_count": 6
        }
      ]
    },
    {
      "cell_type": "code",
      "metadata": {
        "id": "wLZDry7NHHQs",
        "outputId": "a0bc03c5-57a5-47cb-9789-47d0a72015ae",
        "colab": {
          "base_uri": "https://localhost:8080/",
          "height": 35
        }
      },
      "source": [
        "h.message"
      ],
      "execution_count": 7,
      "outputs": [
        {
          "output_type": "execute_result",
          "data": {
            "application/vnd.google.colaboratory.intrinsic+json": {
              "type": "string"
            },
            "text/plain": [
              "'Hello Aayushmaan and xyz and abc'"
            ]
          },
          "metadata": {
            "tags": []
          },
          "execution_count": 7
        }
      ]
    },
    {
      "cell_type": "markdown",
      "metadata": {
        "id": "9McZj_BnHO_7"
      },
      "source": [
        "First we edited the message variable in hello.py to 'Hello Aayushmaaan and xyz' then we printed the message variable and then we again editted the message variable in hello.py file to 'Hello Aayushmaan and xyz and abc' and then printed the message variable once again"
      ]
    },
    {
      "cell_type": "code",
      "metadata": {
        "id": "hmkqgXxHHMox"
      },
      "source": [
        "import edhec_risk_kit as erk\n",
        "\n",
        "returns = erk.get_ffme_returns()"
      ],
      "execution_count": 10,
      "outputs": []
    },
    {
      "cell_type": "code",
      "metadata": {
        "id": "FUWL6WUSJ4AH",
        "outputId": "81508511-732b-4d91-b95b-625222442204",
        "colab": {
          "base_uri": "https://localhost:8080/",
          "height": 204
        }
      },
      "source": [
        "returns.head()"
      ],
      "execution_count": 11,
      "outputs": [
        {
          "output_type": "execute_result",
          "data": {
            "text/html": [
              "<div>\n",
              "<style scoped>\n",
              "    .dataframe tbody tr th:only-of-type {\n",
              "        vertical-align: middle;\n",
              "    }\n",
              "\n",
              "    .dataframe tbody tr th {\n",
              "        vertical-align: top;\n",
              "    }\n",
              "\n",
              "    .dataframe thead th {\n",
              "        text-align: right;\n",
              "    }\n",
              "</style>\n",
              "<table border=\"1\" class=\"dataframe\">\n",
              "  <thead>\n",
              "    <tr style=\"text-align: right;\">\n",
              "      <th></th>\n",
              "      <th>SmallCap</th>\n",
              "      <th>LargeCap</th>\n",
              "    </tr>\n",
              "  </thead>\n",
              "  <tbody>\n",
              "    <tr>\n",
              "      <th>1926-07</th>\n",
              "      <td>-0.0145</td>\n",
              "      <td>0.0329</td>\n",
              "    </tr>\n",
              "    <tr>\n",
              "      <th>1926-08</th>\n",
              "      <td>0.0512</td>\n",
              "      <td>0.0370</td>\n",
              "    </tr>\n",
              "    <tr>\n",
              "      <th>1926-09</th>\n",
              "      <td>0.0093</td>\n",
              "      <td>0.0067</td>\n",
              "    </tr>\n",
              "    <tr>\n",
              "      <th>1926-10</th>\n",
              "      <td>-0.0484</td>\n",
              "      <td>-0.0243</td>\n",
              "    </tr>\n",
              "    <tr>\n",
              "      <th>1926-11</th>\n",
              "      <td>-0.0078</td>\n",
              "      <td>0.0270</td>\n",
              "    </tr>\n",
              "  </tbody>\n",
              "</table>\n",
              "</div>"
            ],
            "text/plain": [
              "         SmallCap  LargeCap\n",
              "1926-07   -0.0145    0.0329\n",
              "1926-08    0.0512    0.0370\n",
              "1926-09    0.0093    0.0067\n",
              "1926-10   -0.0484   -0.0243\n",
              "1926-11   -0.0078    0.0270"
            ]
          },
          "metadata": {
            "tags": []
          },
          "execution_count": 11
        }
      ]
    },
    {
      "cell_type": "code",
      "metadata": {
        "id": "lw5Y8f-ZKOhx",
        "outputId": "ee9f34d0-96ae-46af-f9bd-24496676291f",
        "colab": {
          "base_uri": "https://localhost:8080/",
          "height": 34
        }
      },
      "source": [
        "erk.drawdown(returns['SmallCap'])['Drawdowns'].min()"
      ],
      "execution_count": 16,
      "outputs": [
        {
          "output_type": "execute_result",
          "data": {
            "text/plain": [
              "-0.8330007793945303"
            ]
          },
          "metadata": {
            "tags": []
          },
          "execution_count": 16
        }
      ]
    },
    {
      "cell_type": "code",
      "metadata": {
        "id": "QfMbkYPSKUj2",
        "outputId": "71ae8bfc-86a1-4d42-ea2e-ef79aed5db1f",
        "colab": {
          "base_uri": "https://localhost:8080/",
          "height": 34
        }
      },
      "source": [
        "erk.drawdown(returns['1975':]['SmallCap'])['Drawdowns'].min()"
      ],
      "execution_count": 19,
      "outputs": [
        {
          "output_type": "execute_result",
          "data": {
            "text/plain": [
              "-0.6312068077252386"
            ]
          },
          "metadata": {
            "tags": []
          },
          "execution_count": 19
        }
      ]
    }
  ]
}