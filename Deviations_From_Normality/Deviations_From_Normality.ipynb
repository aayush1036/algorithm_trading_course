{
  "nbformat": 4,
  "nbformat_minor": 0,
  "metadata": {
    "colab": {
      "name": "Deviations From Normality.ipynb",
      "provenance": [],
      "toc_visible": true,
      "authorship_tag": "ABX9TyN88KaOzqIV9VtGcvkHCxhB",
      "include_colab_link": true
    },
    "kernelspec": {
      "name": "python3",
      "display_name": "Python 3"
    }
  },
  "cells": [
    {
      "cell_type": "markdown",
      "metadata": {
        "id": "view-in-github",
        "colab_type": "text"
      },
      "source": [
        "<a href=\"https://colab.research.google.com/github/aayush1036/algorithm_trading_course/blob/master/Deviations_From_Normality/Deviations_From_Normality.ipynb\" target=\"_parent\"><img src=\"https://colab.research.google.com/assets/colab-badge.svg\" alt=\"Open In Colab\"/></a>"
      ]
    },
    {
      "cell_type": "markdown",
      "metadata": {
        "id": "wvnG2mkE_dpH"
      },
      "source": [
        "# Deviations from Normality"
      ]
    },
    {
      "cell_type": "code",
      "metadata": {
        "id": "oJGcOvB5_ags"
      },
      "source": [
        "%reload_ext autoreload\n",
        "%autoreload 2\n",
        "import pandas as pd \n",
        "import edhec_risk_kit as erk"
      ],
      "execution_count": 10,
      "outputs": []
    },
    {
      "cell_type": "code",
      "metadata": {
        "id": "wrxU4nJmAY6j",
        "outputId": "49feb487-112d-42fc-bbc2-57703d29d869",
        "colab": {
          "base_uri": "https://localhost:8080/",
          "height": 374
        }
      },
      "source": [
        "hfi = erk.get_hfi_returns()\n",
        "hfi.head()"
      ],
      "execution_count": 14,
      "outputs": [
        {
          "output_type": "execute_result",
          "data": {
            "text/html": [
              "<div>\n",
              "<style scoped>\n",
              "    .dataframe tbody tr th:only-of-type {\n",
              "        vertical-align: middle;\n",
              "    }\n",
              "\n",
              "    .dataframe tbody tr th {\n",
              "        vertical-align: top;\n",
              "    }\n",
              "\n",
              "    .dataframe thead th {\n",
              "        text-align: right;\n",
              "    }\n",
              "</style>\n",
              "<table border=\"1\" class=\"dataframe\">\n",
              "  <thead>\n",
              "    <tr style=\"text-align: right;\">\n",
              "      <th></th>\n",
              "      <th>Convertible Arbitrage</th>\n",
              "      <th>CTA Global</th>\n",
              "      <th>Distressed Securities</th>\n",
              "      <th>Emerging Markets</th>\n",
              "      <th>Equity Market Neutral</th>\n",
              "      <th>Event Driven</th>\n",
              "      <th>Fixed Income Arbitrage</th>\n",
              "      <th>Global Macro</th>\n",
              "      <th>Long/Short Equity</th>\n",
              "      <th>Merger Arbitrage</th>\n",
              "      <th>Relative Value</th>\n",
              "      <th>Short Selling</th>\n",
              "      <th>Funds Of Funds</th>\n",
              "    </tr>\n",
              "    <tr>\n",
              "      <th>date</th>\n",
              "      <th></th>\n",
              "      <th></th>\n",
              "      <th></th>\n",
              "      <th></th>\n",
              "      <th></th>\n",
              "      <th></th>\n",
              "      <th></th>\n",
              "      <th></th>\n",
              "      <th></th>\n",
              "      <th></th>\n",
              "      <th></th>\n",
              "      <th></th>\n",
              "      <th></th>\n",
              "    </tr>\n",
              "  </thead>\n",
              "  <tbody>\n",
              "    <tr>\n",
              "      <th>1997-01</th>\n",
              "      <td>0.0119</td>\n",
              "      <td>0.0393</td>\n",
              "      <td>0.0178</td>\n",
              "      <td>0.0791</td>\n",
              "      <td>0.0189</td>\n",
              "      <td>0.0213</td>\n",
              "      <td>0.0191</td>\n",
              "      <td>0.0573</td>\n",
              "      <td>0.0281</td>\n",
              "      <td>0.0150</td>\n",
              "      <td>0.0180</td>\n",
              "      <td>-0.0166</td>\n",
              "      <td>0.0317</td>\n",
              "    </tr>\n",
              "    <tr>\n",
              "      <th>1997-02</th>\n",
              "      <td>0.0123</td>\n",
              "      <td>0.0298</td>\n",
              "      <td>0.0122</td>\n",
              "      <td>0.0525</td>\n",
              "      <td>0.0101</td>\n",
              "      <td>0.0084</td>\n",
              "      <td>0.0122</td>\n",
              "      <td>0.0175</td>\n",
              "      <td>-0.0006</td>\n",
              "      <td>0.0034</td>\n",
              "      <td>0.0118</td>\n",
              "      <td>0.0426</td>\n",
              "      <td>0.0106</td>\n",
              "    </tr>\n",
              "    <tr>\n",
              "      <th>1997-03</th>\n",
              "      <td>0.0078</td>\n",
              "      <td>-0.0021</td>\n",
              "      <td>-0.0012</td>\n",
              "      <td>-0.0120</td>\n",
              "      <td>0.0016</td>\n",
              "      <td>-0.0023</td>\n",
              "      <td>0.0109</td>\n",
              "      <td>-0.0119</td>\n",
              "      <td>-0.0084</td>\n",
              "      <td>0.0060</td>\n",
              "      <td>0.0010</td>\n",
              "      <td>0.0778</td>\n",
              "      <td>-0.0077</td>\n",
              "    </tr>\n",
              "    <tr>\n",
              "      <th>1997-04</th>\n",
              "      <td>0.0086</td>\n",
              "      <td>-0.0170</td>\n",
              "      <td>0.0030</td>\n",
              "      <td>0.0119</td>\n",
              "      <td>0.0119</td>\n",
              "      <td>-0.0005</td>\n",
              "      <td>0.0130</td>\n",
              "      <td>0.0172</td>\n",
              "      <td>0.0084</td>\n",
              "      <td>-0.0001</td>\n",
              "      <td>0.0122</td>\n",
              "      <td>-0.0129</td>\n",
              "      <td>0.0009</td>\n",
              "    </tr>\n",
              "    <tr>\n",
              "      <th>1997-05</th>\n",
              "      <td>0.0156</td>\n",
              "      <td>-0.0015</td>\n",
              "      <td>0.0233</td>\n",
              "      <td>0.0315</td>\n",
              "      <td>0.0189</td>\n",
              "      <td>0.0346</td>\n",
              "      <td>0.0118</td>\n",
              "      <td>0.0108</td>\n",
              "      <td>0.0394</td>\n",
              "      <td>0.0197</td>\n",
              "      <td>0.0173</td>\n",
              "      <td>-0.0737</td>\n",
              "      <td>0.0275</td>\n",
              "    </tr>\n",
              "  </tbody>\n",
              "</table>\n",
              "</div>"
            ],
            "text/plain": [
              "         Convertible Arbitrage  CTA Global  ...  Short Selling  Funds Of Funds\n",
              "date                                        ...                               \n",
              "1997-01                 0.0119      0.0393  ...        -0.0166          0.0317\n",
              "1997-02                 0.0123      0.0298  ...         0.0426          0.0106\n",
              "1997-03                 0.0078     -0.0021  ...         0.0778         -0.0077\n",
              "1997-04                 0.0086     -0.0170  ...        -0.0129          0.0009\n",
              "1997-05                 0.0156     -0.0015  ...        -0.0737          0.0275\n",
              "\n",
              "[5 rows x 13 columns]"
            ]
          },
          "metadata": {
            "tags": []
          },
          "execution_count": 14
        }
      ]
    },
    {
      "cell_type": "code",
      "metadata": {
        "id": "9c9uON0ZB4aI",
        "outputId": "2e767bb5-d5f9-4a9a-d986-df7557629fd9",
        "colab": {
          "base_uri": "https://localhost:8080/",
          "height": 452
        }
      },
      "source": [
        "pd.concat([hfi.mean(), hfi.median(), hfi.mean()>hfi.median()], axis='columns')"
      ],
      "execution_count": 15,
      "outputs": [
        {
          "output_type": "execute_result",
          "data": {
            "text/html": [
              "<div>\n",
              "<style scoped>\n",
              "    .dataframe tbody tr th:only-of-type {\n",
              "        vertical-align: middle;\n",
              "    }\n",
              "\n",
              "    .dataframe tbody tr th {\n",
              "        vertical-align: top;\n",
              "    }\n",
              "\n",
              "    .dataframe thead th {\n",
              "        text-align: right;\n",
              "    }\n",
              "</style>\n",
              "<table border=\"1\" class=\"dataframe\">\n",
              "  <thead>\n",
              "    <tr style=\"text-align: right;\">\n",
              "      <th></th>\n",
              "      <th>0</th>\n",
              "      <th>1</th>\n",
              "      <th>2</th>\n",
              "    </tr>\n",
              "  </thead>\n",
              "  <tbody>\n",
              "    <tr>\n",
              "      <th>Convertible Arbitrage</th>\n",
              "      <td>0.005508</td>\n",
              "      <td>0.0065</td>\n",
              "      <td>False</td>\n",
              "    </tr>\n",
              "    <tr>\n",
              "      <th>CTA Global</th>\n",
              "      <td>0.004074</td>\n",
              "      <td>0.0014</td>\n",
              "      <td>True</td>\n",
              "    </tr>\n",
              "    <tr>\n",
              "      <th>Distressed Securities</th>\n",
              "      <td>0.006946</td>\n",
              "      <td>0.0089</td>\n",
              "      <td>False</td>\n",
              "    </tr>\n",
              "    <tr>\n",
              "      <th>Emerging Markets</th>\n",
              "      <td>0.006253</td>\n",
              "      <td>0.0096</td>\n",
              "      <td>False</td>\n",
              "    </tr>\n",
              "    <tr>\n",
              "      <th>Equity Market Neutral</th>\n",
              "      <td>0.004498</td>\n",
              "      <td>0.0051</td>\n",
              "      <td>False</td>\n",
              "    </tr>\n",
              "    <tr>\n",
              "      <th>Event Driven</th>\n",
              "      <td>0.006344</td>\n",
              "      <td>0.0084</td>\n",
              "      <td>False</td>\n",
              "    </tr>\n",
              "    <tr>\n",
              "      <th>Fixed Income Arbitrage</th>\n",
              "      <td>0.004365</td>\n",
              "      <td>0.0055</td>\n",
              "      <td>False</td>\n",
              "    </tr>\n",
              "    <tr>\n",
              "      <th>Global Macro</th>\n",
              "      <td>0.005403</td>\n",
              "      <td>0.0038</td>\n",
              "      <td>True</td>\n",
              "    </tr>\n",
              "    <tr>\n",
              "      <th>Long/Short Equity</th>\n",
              "      <td>0.006331</td>\n",
              "      <td>0.0079</td>\n",
              "      <td>False</td>\n",
              "    </tr>\n",
              "    <tr>\n",
              "      <th>Merger Arbitrage</th>\n",
              "      <td>0.005356</td>\n",
              "      <td>0.0060</td>\n",
              "      <td>False</td>\n",
              "    </tr>\n",
              "    <tr>\n",
              "      <th>Relative Value</th>\n",
              "      <td>0.005792</td>\n",
              "      <td>0.0067</td>\n",
              "      <td>False</td>\n",
              "    </tr>\n",
              "    <tr>\n",
              "      <th>Short Selling</th>\n",
              "      <td>-0.001701</td>\n",
              "      <td>-0.0053</td>\n",
              "      <td>True</td>\n",
              "    </tr>\n",
              "    <tr>\n",
              "      <th>Funds Of Funds</th>\n",
              "      <td>0.004262</td>\n",
              "      <td>0.0052</td>\n",
              "      <td>False</td>\n",
              "    </tr>\n",
              "  </tbody>\n",
              "</table>\n",
              "</div>"
            ],
            "text/plain": [
              "                               0       1      2\n",
              "Convertible Arbitrage   0.005508  0.0065  False\n",
              "CTA Global              0.004074  0.0014   True\n",
              "Distressed Securities   0.006946  0.0089  False\n",
              "Emerging Markets        0.006253  0.0096  False\n",
              "Equity Market Neutral   0.004498  0.0051  False\n",
              "Event Driven            0.006344  0.0084  False\n",
              "Fixed Income Arbitrage  0.004365  0.0055  False\n",
              "Global Macro            0.005403  0.0038   True\n",
              "Long/Short Equity       0.006331  0.0079  False\n",
              "Merger Arbitrage        0.005356  0.0060  False\n",
              "Relative Value          0.005792  0.0067  False\n",
              "Short Selling          -0.001701 -0.0053   True\n",
              "Funds Of Funds          0.004262  0.0052  False"
            ]
          },
          "metadata": {
            "tags": []
          },
          "execution_count": 15
        }
      ]
    },
    {
      "cell_type": "markdown",
      "metadata": {
        "id": "KXSE2njaDPP2"
      },
      "source": [
        "$$ S(R) = \\frac{E[ (R-E(R))^3]}{\\sigma_R^3} $$"
      ]
    },
    {
      "cell_type": "code",
      "metadata": {
        "id": "pcPqxtZPDGVO",
        "outputId": "886f5395-52dc-40b0-efaa-96ae70005f7b",
        "colab": {
          "base_uri": "https://localhost:8080/",
          "height": 255
        }
      },
      "source": [
        "erk.skewness(hfi).sort_values()"
      ],
      "execution_count": 17,
      "outputs": [
        {
          "output_type": "execute_result",
          "data": {
            "text/plain": [
              "Fixed Income Arbitrage   -3.940320\n",
              "Convertible Arbitrage    -2.639592\n",
              "Equity Market Neutral    -2.124435\n",
              "Relative Value           -1.815470\n",
              "Event Driven             -1.409154\n",
              "Merger Arbitrage         -1.320083\n",
              "Distressed Securities    -1.300842\n",
              "Emerging Markets         -1.167067\n",
              "Long/Short Equity        -0.390227\n",
              "Funds Of Funds           -0.361783\n",
              "CTA Global                0.173699\n",
              "Short Selling             0.767975\n",
              "Global Macro              0.982922\n",
              "dtype: float64"
            ]
          },
          "metadata": {
            "tags": []
          },
          "execution_count": 17
        }
      ]
    },
    {
      "cell_type": "code",
      "metadata": {
        "id": "qPsP6HbhFodV",
        "outputId": "8dbc1400-1f05-410a-ad56-ce6ba8bdd6ac",
        "colab": {
          "base_uri": "https://localhost:8080/",
          "height": 68
        }
      },
      "source": [
        "import scipy.stats\n",
        "scipy.stats.skew(hfi)"
      ],
      "execution_count": 18,
      "outputs": [
        {
          "output_type": "execute_result",
          "data": {
            "text/plain": [
              "array([-2.63959223,  0.17369864, -1.30084204, -1.16706749, -2.12443538,\n",
              "       -1.40915356, -3.94032029,  0.98292188, -0.39022677, -1.32008333,\n",
              "       -1.81546975,  0.76797484, -0.36178308])"
            ]
          },
          "metadata": {
            "tags": []
          },
          "execution_count": 18
        }
      ]
    },
    {
      "cell_type": "code",
      "metadata": {
        "id": "fF7_4HojGAIU",
        "outputId": "d07f3623-6bcf-4886-e23f-1307a7351219",
        "colab": {
          "base_uri": "https://localhost:8080/",
          "height": 255
        }
      },
      "source": [
        "erk.skewness(hfi)"
      ],
      "execution_count": 19,
      "outputs": [
        {
          "output_type": "execute_result",
          "data": {
            "text/plain": [
              "Convertible Arbitrage    -2.639592\n",
              "CTA Global                0.173699\n",
              "Distressed Securities    -1.300842\n",
              "Emerging Markets         -1.167067\n",
              "Equity Market Neutral    -2.124435\n",
              "Event Driven             -1.409154\n",
              "Fixed Income Arbitrage   -3.940320\n",
              "Global Macro              0.982922\n",
              "Long/Short Equity        -0.390227\n",
              "Merger Arbitrage         -1.320083\n",
              "Relative Value           -1.815470\n",
              "Short Selling             0.767975\n",
              "Funds Of Funds           -0.361783\n",
              "dtype: float64"
            ]
          },
          "metadata": {
            "tags": []
          },
          "execution_count": 19
        }
      ]
    },
    {
      "cell_type": "code",
      "metadata": {
        "id": "DfWJc_xGGE2M"
      },
      "source": [
        "import numpy as np\n",
        "normal_rets = np.random.normal(0, 0.15, size = (26300,1))"
      ],
      "execution_count": 30,
      "outputs": []
    },
    {
      "cell_type": "code",
      "metadata": {
        "id": "DzlFguW1Gvqs",
        "outputId": "0c085a33-246f-4286-cc6a-4d1693a98335",
        "colab": {
          "base_uri": "https://localhost:8080/",
          "height": 34
        }
      },
      "source": [
        "erk.skewness(normal_rets)"
      ],
      "execution_count": 31,
      "outputs": [
        {
          "output_type": "execute_result",
          "data": {
            "text/plain": [
              "0.016170745712454502"
            ]
          },
          "metadata": {
            "tags": []
          },
          "execution_count": 31
        }
      ]
    },
    {
      "cell_type": "markdown",
      "metadata": {
        "id": "PFDeDrvwHFyI"
      },
      "source": [
        "#Kurtosis"
      ]
    },
    {
      "cell_type": "markdown",
      "metadata": {
        "id": "YipPYi23HLMn"
      },
      "source": [
        "$$ K(R) = \\frac{E[E(R-E(R))^4]}{\\sigma_R^4} $$"
      ]
    },
    {
      "cell_type": "code",
      "metadata": {
        "id": "PuPMaKLTG-rc",
        "outputId": "ee21d8ae-2138-4462-9c0f-4ecefea5c4e0",
        "colab": {
          "base_uri": "https://localhost:8080/",
          "height": 34
        }
      },
      "source": [
        "erk.kurtosis(normal_rets)"
      ],
      "execution_count": 32,
      "outputs": [
        {
          "output_type": "execute_result",
          "data": {
            "text/plain": [
              "2.9785775048566565"
            ]
          },
          "metadata": {
            "tags": []
          },
          "execution_count": 32
        }
      ]
    },
    {
      "cell_type": "code",
      "metadata": {
        "id": "SQsLxkEgJIUc",
        "outputId": "2d1b8a9a-57ab-4639-dbac-42a25447e0ed",
        "colab": {
          "base_uri": "https://localhost:8080/",
          "height": 255
        }
      },
      "source": [
        "erk.kurtosis(hfi)"
      ],
      "execution_count": 27,
      "outputs": [
        {
          "output_type": "execute_result",
          "data": {
            "text/plain": [
              "Convertible Arbitrage     23.280834\n",
              "CTA Global                 2.952960\n",
              "Distressed Securities      7.889983\n",
              "Emerging Markets           9.250788\n",
              "Equity Market Neutral     17.218555\n",
              "Event Driven               8.035828\n",
              "Fixed Income Arbitrage    29.842199\n",
              "Global Macro               5.741679\n",
              "Long/Short Equity          4.523893\n",
              "Merger Arbitrage           8.738950\n",
              "Relative Value            12.121208\n",
              "Short Selling              6.117772\n",
              "Funds Of Funds             7.070153\n",
              "dtype: float64"
            ]
          },
          "metadata": {
            "tags": []
          },
          "execution_count": 27
        }
      ]
    },
    {
      "cell_type": "code",
      "metadata": {
        "id": "BhsFTJbmJNGM",
        "outputId": "f528bb53-9426-425c-ef03-014a7dd14107",
        "colab": {
          "base_uri": "https://localhost:8080/",
          "height": 34
        }
      },
      "source": [
        "scipy.stats.kurtosis(normal_rets)"
      ],
      "execution_count": 33,
      "outputs": [
        {
          "output_type": "execute_result",
          "data": {
            "text/plain": [
              "array([-0.0214225])"
            ]
          },
          "metadata": {
            "tags": []
          },
          "execution_count": 33
        }
      ]
    },
    {
      "cell_type": "code",
      "metadata": {
        "id": "xya3jOm7JVf8",
        "outputId": "5488e8f6-fca5-4af2-a3cc-4caa24a05cdc",
        "colab": {
          "base_uri": "https://localhost:8080/",
          "height": 34
        }
      },
      "source": [
        "scipy.stats.jarque_bera(normal_rets)"
      ],
      "execution_count": 35,
      "outputs": [
        {
          "output_type": "execute_result",
          "data": {
            "text/plain": [
              "(1.6491145049721743, 0.438429062877299)"
            ]
          },
          "metadata": {
            "tags": []
          },
          "execution_count": 35
        }
      ]
    },
    {
      "cell_type": "code",
      "metadata": {
        "id": "ad3mU0imKFPy",
        "outputId": "68a28bfe-714d-4a91-d919-ef8bfcfdb02e",
        "colab": {
          "base_uri": "https://localhost:8080/",
          "height": 34
        }
      },
      "source": [
        "scipy.stats.jarque_bera(hfi)"
      ],
      "execution_count": 36,
      "outputs": [
        {
          "output_type": "execute_result",
          "data": {
            "text/plain": [
              "(25656.585999171326, 0.0)"
            ]
          },
          "metadata": {
            "tags": []
          },
          "execution_count": 36
        }
      ]
    },
    {
      "cell_type": "code",
      "metadata": {
        "id": "gKHZC8mxKhBr",
        "outputId": "8a15ed43-0717-4013-da61-dcbed249098f",
        "colab": {
          "base_uri": "https://localhost:8080/",
          "height": 34
        }
      },
      "source": [
        "erk.is_normal(normal_rets)"
      ],
      "execution_count": 38,
      "outputs": [
        {
          "output_type": "execute_result",
          "data": {
            "text/plain": [
              "True"
            ]
          },
          "metadata": {
            "tags": []
          },
          "execution_count": 38
        }
      ]
    },
    {
      "cell_type": "code",
      "metadata": {
        "id": "yvVyakSRLqVj",
        "outputId": "ff06119b-b521-4c23-c66c-ec20301a04a1",
        "colab": {
          "base_uri": "https://localhost:8080/",
          "height": 34
        }
      },
      "source": [
        "erk.is_normal(hfi)"
      ],
      "execution_count": 39,
      "outputs": [
        {
          "output_type": "execute_result",
          "data": {
            "text/plain": [
              "False"
            ]
          },
          "metadata": {
            "tags": []
          },
          "execution_count": 39
        }
      ]
    },
    {
      "cell_type": "code",
      "metadata": {
        "id": "os_aSEexL3Fn",
        "outputId": "256a91bc-a8a5-4a8d-993c-8b76a90df94a",
        "colab": {
          "base_uri": "https://localhost:8080/",
          "height": 255
        }
      },
      "source": [
        "hfi.aggregate(erk.is_normal)"
      ],
      "execution_count": 40,
      "outputs": [
        {
          "output_type": "execute_result",
          "data": {
            "text/plain": [
              "Convertible Arbitrage     False\n",
              "CTA Global                 True\n",
              "Distressed Securities     False\n",
              "Emerging Markets          False\n",
              "Equity Market Neutral     False\n",
              "Event Driven              False\n",
              "Fixed Income Arbitrage    False\n",
              "Global Macro              False\n",
              "Long/Short Equity         False\n",
              "Merger Arbitrage          False\n",
              "Relative Value            False\n",
              "Short Selling             False\n",
              "Funds Of Funds            False\n",
              "dtype: bool"
            ]
          },
          "metadata": {
            "tags": []
          },
          "execution_count": 40
        }
      ]
    },
    {
      "cell_type": "code",
      "metadata": {
        "id": "NquAso-RL_d4",
        "outputId": "b8cd37e8-34b2-4052-8d5a-5e751c138ef5",
        "colab": {
          "base_uri": "https://localhost:8080/",
          "height": 68
        }
      },
      "source": [
        "ffme = erk.get_ffme_returns()\n",
        "erk.skewness(ffme)"
      ],
      "execution_count": 42,
      "outputs": [
        {
          "output_type": "execute_result",
          "data": {
            "text/plain": [
              "SmallCap    4.410739\n",
              "LargeCap    0.233445\n",
              "dtype: float64"
            ]
          },
          "metadata": {
            "tags": []
          },
          "execution_count": 42
        }
      ]
    },
    {
      "cell_type": "code",
      "metadata": {
        "id": "6aOv8xPjMRhu",
        "outputId": "e2de6a78-3fe0-4b84-9ef4-76143844794e",
        "colab": {
          "base_uri": "https://localhost:8080/",
          "height": 68
        }
      },
      "source": [
        "erk.kurtosis(ffme)"
      ],
      "execution_count": 43,
      "outputs": [
        {
          "output_type": "execute_result",
          "data": {
            "text/plain": [
              "SmallCap    46.845008\n",
              "LargeCap    10.694654\n",
              "dtype: float64"
            ]
          },
          "metadata": {
            "tags": []
          },
          "execution_count": 43
        }
      ]
    },
    {
      "cell_type": "code",
      "metadata": {
        "id": "pm2g9ZPcMcXd",
        "outputId": "22d74665-ebab-4f97-ffff-5aeff179f2ee",
        "colab": {
          "base_uri": "https://localhost:8080/",
          "height": 68
        }
      },
      "source": [
        "ffme.aggregate(erk.is_normal)"
      ],
      "execution_count": 45,
      "outputs": [
        {
          "output_type": "execute_result",
          "data": {
            "text/plain": [
              "SmallCap    False\n",
              "LargeCap    False\n",
              "dtype: bool"
            ]
          },
          "metadata": {
            "tags": []
          },
          "execution_count": 45
        }
      ]
    }
  ]
}